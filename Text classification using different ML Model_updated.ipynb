{
 "cells": [
  {
   "cell_type": "markdown",
   "metadata": {},
   "source": [
    "# import libraries"
   ]
  },
  {
   "cell_type": "code",
   "execution_count": 1,
   "metadata": {},
   "outputs": [],
   "source": [
    "import numpy as np # standard library for array processing\n",
    "import pandas as pd # standard library for deal with csv, excel and dataframe\n",
    "import nltk # natural langauge processing toolkit for deal with  natural langauge \n",
    "from nltk.corpus import stopwords\n",
    "from nltk.stem.porter import PorterStemmer\n",
    "import re # for string and expression\n",
    "from sklearn.model_selection import train_test_split # for split data\n",
    "from sklearn.feature_extraction.text import TfidfVectorizer, CountVectorizer # convert language to machine understand langauge \n",
    "import h2o # machine learning library for auto finding best parameters and machine learning algorithm\n",
    "from h2o.automl import H2OAutoML \n",
    "from matplotlib import pyplot as plt "
   ]
  },
  {
   "cell_type": "code",
   "execution_count": 2,
   "metadata": {},
   "outputs": [
    {
     "data": {
      "text/html": [
       "<div>\n",
       "<style scoped>\n",
       "    .dataframe tbody tr th:only-of-type {\n",
       "        vertical-align: middle;\n",
       "    }\n",
       "\n",
       "    .dataframe tbody tr th {\n",
       "        vertical-align: top;\n",
       "    }\n",
       "\n",
       "    .dataframe thead th {\n",
       "        text-align: right;\n",
       "    }\n",
       "</style>\n",
       "<table border=\"1\" class=\"dataframe\">\n",
       "  <thead>\n",
       "    <tr style=\"text-align: right;\">\n",
       "      <th></th>\n",
       "      <th>link</th>\n",
       "      <th>title</th>\n",
       "      <th>description</th>\n",
       "      <th>original_title</th>\n",
       "      <th>rating</th>\n",
       "      <th>reviewers</th>\n",
       "      <th>category</th>\n",
       "      <th>tags</th>\n",
       "      <th>source_link</th>\n",
       "      <th>summary</th>\n",
       "      <th>...</th>\n",
       "      <th>Unnamed: 4401</th>\n",
       "      <th>Unnamed: 4402</th>\n",
       "      <th>Unnamed: 4403</th>\n",
       "      <th>Unnamed: 4404</th>\n",
       "      <th>Unnamed: 4405</th>\n",
       "      <th>Unnamed: 4406</th>\n",
       "      <th>Unnamed: 4407</th>\n",
       "      <th>Unnamed: 4408</th>\n",
       "      <th>Unnamed: 4409</th>\n",
       "      <th>Unnamed: 4410</th>\n",
       "    </tr>\n",
       "  </thead>\n",
       "  <tbody>\n",
       "    <tr>\n",
       "      <th>0</th>\n",
       "      <td>https://www.healthnewsreview.org/review/guardi...</td>\n",
       "      <td>Guardian jumps to conclusions about an Alzheim...</td>\n",
       "      <td>The storyâ€™s headline states: â€œVirtual real...</td>\n",
       "      <td>Virtual reality to help detect early risk of A...</td>\n",
       "      <td>1</td>\n",
       "      <td>['Matt Shipman', 'Doug Campos-Outcalt, MD, MPA...</td>\n",
       "      <td>The Guardian</td>\n",
       "      <td>[\"alzheimer's disease\"]</td>\n",
       "      <td>https://www.theguardian.com/society/2018/dec/1...</td>\n",
       "      <td>{'Our Review Summary': 'The story focuses on a...</td>\n",
       "      <td>...</td>\n",
       "      <td>NaN</td>\n",
       "      <td>NaN</td>\n",
       "      <td>NaN</td>\n",
       "      <td>NaN</td>\n",
       "      <td>NaN</td>\n",
       "      <td>NaN</td>\n",
       "      <td>NaN</td>\n",
       "      <td>NaN</td>\n",
       "      <td>NaN</td>\n",
       "      <td>NaN</td>\n",
       "    </tr>\n",
       "    <tr>\n",
       "      <th>1</th>\n",
       "      <td>https://www.healthnewsreview.org/review/in-sto...</td>\n",
       "      <td>In story on experimental contraceptive gel, Re...</td>\n",
       "      <td>This leaves both investors and lay audiences w...</td>\n",
       "      <td>Evofem's birth control gel meets main study go...</td>\n",
       "      <td>3</td>\n",
       "      <td>['Jill U. Adams', 'Susan Molchan, MD, MA', 'Jo...</td>\n",
       "      <td>Reuters</td>\n",
       "      <td>['contraceptives']</td>\n",
       "      <td>https://www.reuters.com/article/us-evofem-stud...</td>\n",
       "      <td>{'Our Review Summary': 'Reuters reports on a n...</td>\n",
       "      <td>...</td>\n",
       "      <td>NaN</td>\n",
       "      <td>NaN</td>\n",
       "      <td>NaN</td>\n",
       "      <td>NaN</td>\n",
       "      <td>NaN</td>\n",
       "      <td>NaN</td>\n",
       "      <td>NaN</td>\n",
       "      <td>NaN</td>\n",
       "      <td>NaN</td>\n",
       "      <td>NaN</td>\n",
       "    </tr>\n",
       "    <tr>\n",
       "      <th>2</th>\n",
       "      <td>https://www.healthnewsreview.org/review/using-...</td>\n",
       "      <td>Using a single patient anecdote, ABC News hail...</td>\n",
       "      <td>Breakthrough? Based on the story of one patien...</td>\n",
       "      <td>How a breakthrough new fertility test is offer...</td>\n",
       "      <td>2</td>\n",
       "      <td>['Gary Schwitzer', 'Karen Carlson, MD', 'Joy V...</td>\n",
       "      <td>ABC News</td>\n",
       "      <td>['infertility']</td>\n",
       "      <td>https://abcnews.go.com/GMA/Wellness/breakthrou...</td>\n",
       "      <td>{'Our Review Summary': 'ABC News pursues a sto...</td>\n",
       "      <td>...</td>\n",
       "      <td>NaN</td>\n",
       "      <td>NaN</td>\n",
       "      <td>NaN</td>\n",
       "      <td>NaN</td>\n",
       "      <td>NaN</td>\n",
       "      <td>NaN</td>\n",
       "      <td>NaN</td>\n",
       "      <td>NaN</td>\n",
       "      <td>NaN</td>\n",
       "      <td>NaN</td>\n",
       "    </tr>\n",
       "    <tr>\n",
       "      <th>3</th>\n",
       "      <td>https://www.healthnewsreview.org/review/hard-t...</td>\n",
       "      <td>Hard to find the journalism in this brief Reut...</td>\n",
       "      <td>The story mostly just rehashes a drug company ...</td>\n",
       "      <td>J&amp;J says its psoriasis drug superior to Novart...</td>\n",
       "      <td>2</td>\n",
       "      <td>['Michael Joyce, MD', 'Ishani Ganguli, MD, MPH...</td>\n",
       "      <td>Reuters</td>\n",
       "      <td>['Psoriasis']</td>\n",
       "      <td>https://www.reuters.com/article/us-j-j-drug-ps...</td>\n",
       "      <td>{'Our Review Summary': 'This is a brief news s...</td>\n",
       "      <td>...</td>\n",
       "      <td>NaN</td>\n",
       "      <td>NaN</td>\n",
       "      <td>NaN</td>\n",
       "      <td>NaN</td>\n",
       "      <td>NaN</td>\n",
       "      <td>NaN</td>\n",
       "      <td>NaN</td>\n",
       "      <td>NaN</td>\n",
       "      <td>NaN</td>\n",
       "      <td>NaN</td>\n",
       "    </tr>\n",
       "    <tr>\n",
       "      <th>4</th>\n",
       "      <td>https://www.healthnewsreview.org/review/a-litt...</td>\n",
       "      <td>A little more context would have boosted alrea...</td>\n",
       "      <td>Did the study findings really earn a label of ...</td>\n",
       "      <td>Incontinence Drug May Cut Hot Flashes in Brea...</td>\n",
       "      <td>5</td>\n",
       "      <td>['Sue Rochman', 'Karen Carlson, MD', 'Joy Vict...</td>\n",
       "      <td>HealthDay</td>\n",
       "      <td>['breast cancer', 'hot flashes']</td>\n",
       "      <td>https://consumer.healthday.com/women-s-health-...</td>\n",
       "      <td>{'Our Review Summary': 'The San Antonio Breast...</td>\n",
       "      <td>...</td>\n",
       "      <td>NaN</td>\n",
       "      <td>NaN</td>\n",
       "      <td>NaN</td>\n",
       "      <td>NaN</td>\n",
       "      <td>NaN</td>\n",
       "      <td>NaN</td>\n",
       "      <td>NaN</td>\n",
       "      <td>NaN</td>\n",
       "      <td>NaN</td>\n",
       "      <td>NaN</td>\n",
       "    </tr>\n",
       "  </tbody>\n",
       "</table>\n",
       "<p>5 rows × 4411 columns</p>\n",
       "</div>"
      ],
      "text/plain": [
       "                                                link  \\\n",
       "0  https://www.healthnewsreview.org/review/guardi...   \n",
       "1  https://www.healthnewsreview.org/review/in-sto...   \n",
       "2  https://www.healthnewsreview.org/review/using-...   \n",
       "3  https://www.healthnewsreview.org/review/hard-t...   \n",
       "4  https://www.healthnewsreview.org/review/a-litt...   \n",
       "\n",
       "                                               title  \\\n",
       "0  Guardian jumps to conclusions about an Alzheim...   \n",
       "1  In story on experimental contraceptive gel, Re...   \n",
       "2  Using a single patient anecdote, ABC News hail...   \n",
       "3  Hard to find the journalism in this brief Reut...   \n",
       "4  A little more context would have boosted alrea...   \n",
       "\n",
       "                                         description  \\\n",
       "0  The storyâ€™s headline states: â€œVirtual real...   \n",
       "1  This leaves both investors and lay audiences w...   \n",
       "2  Breakthrough? Based on the story of one patien...   \n",
       "3  The story mostly just rehashes a drug company ...   \n",
       "4  Did the study findings really earn a label of ...   \n",
       "\n",
       "                                      original_title  rating  \\\n",
       "0  Virtual reality to help detect early risk of A...       1   \n",
       "1  Evofem's birth control gel meets main study go...       3   \n",
       "2  How a breakthrough new fertility test is offer...       2   \n",
       "3  J&J says its psoriasis drug superior to Novart...       2   \n",
       "4   Incontinence Drug May Cut Hot Flashes in Brea...       5   \n",
       "\n",
       "                                           reviewers      category  \\\n",
       "0  ['Matt Shipman', 'Doug Campos-Outcalt, MD, MPA...  The Guardian   \n",
       "1  ['Jill U. Adams', 'Susan Molchan, MD, MA', 'Jo...       Reuters   \n",
       "2  ['Gary Schwitzer', 'Karen Carlson, MD', 'Joy V...      ABC News   \n",
       "3  ['Michael Joyce, MD', 'Ishani Ganguli, MD, MPH...       Reuters   \n",
       "4  ['Sue Rochman', 'Karen Carlson, MD', 'Joy Vict...     HealthDay   \n",
       "\n",
       "                               tags  \\\n",
       "0           [\"alzheimer's disease\"]   \n",
       "1                ['contraceptives']   \n",
       "2                   ['infertility']   \n",
       "3                     ['Psoriasis']   \n",
       "4  ['breast cancer', 'hot flashes']   \n",
       "\n",
       "                                         source_link  \\\n",
       "0  https://www.theguardian.com/society/2018/dec/1...   \n",
       "1  https://www.reuters.com/article/us-evofem-stud...   \n",
       "2  https://abcnews.go.com/GMA/Wellness/breakthrou...   \n",
       "3  https://www.reuters.com/article/us-j-j-drug-ps...   \n",
       "4  https://consumer.healthday.com/women-s-health-...   \n",
       "\n",
       "                                             summary  ... Unnamed: 4401  \\\n",
       "0  {'Our Review Summary': 'The story focuses on a...  ...           NaN   \n",
       "1  {'Our Review Summary': 'Reuters reports on a n...  ...           NaN   \n",
       "2  {'Our Review Summary': 'ABC News pursues a sto...  ...           NaN   \n",
       "3  {'Our Review Summary': 'This is a brief news s...  ...           NaN   \n",
       "4  {'Our Review Summary': 'The San Antonio Breast...  ...           NaN   \n",
       "\n",
       "  Unnamed: 4402 Unnamed: 4403 Unnamed: 4404 Unnamed: 4405 Unnamed: 4406  \\\n",
       "0           NaN           NaN           NaN           NaN           NaN   \n",
       "1           NaN           NaN           NaN           NaN           NaN   \n",
       "2           NaN           NaN           NaN           NaN           NaN   \n",
       "3           NaN           NaN           NaN           NaN           NaN   \n",
       "4           NaN           NaN           NaN           NaN           NaN   \n",
       "\n",
       "  Unnamed: 4407 Unnamed: 4408 Unnamed: 4409 Unnamed: 4410  \n",
       "0           NaN           NaN           NaN           NaN  \n",
       "1           NaN           NaN           NaN           NaN  \n",
       "2           NaN           NaN           NaN           NaN  \n",
       "3           NaN           NaN           NaN           NaN  \n",
       "4           NaN           NaN           NaN           NaN  \n",
       "\n",
       "[5 rows x 4411 columns]"
      ]
     },
     "execution_count": 2,
     "metadata": {},
     "output_type": "execute_result"
    }
   ],
   "source": [
    "df = pd.read_excel('HealthStoryCSVFileContainingAllData.xlsx') # read the data and save in df \n",
    "df.head() # display some data"
   ]
  },
  {
   "cell_type": "code",
   "execution_count": 3,
   "metadata": {},
   "outputs": [],
   "source": [
    "# there is a lot of columns so we pick only our target columns\n",
    "df_ = df[['text','Q6']].copy()"
   ]
  },
  {
   "cell_type": "code",
   "execution_count": 4,
   "metadata": {},
   "outputs": [],
   "source": [
    "# Drop the empty text column rows\n",
    "df_.dropna(subset=['text'], inplace=True)"
   ]
  },
  {
   "cell_type": "code",
   "execution_count": 5,
   "metadata": {},
   "outputs": [
    {
     "data": {
      "text/plain": [
       "0"
      ]
     },
     "execution_count": 5,
     "metadata": {},
     "output_type": "execute_result"
    }
   ],
   "source": [
    "# check the nan values in text\n",
    "df_['text'].isna().sum()"
   ]
  },
  {
   "cell_type": "markdown",
   "metadata": {},
   "source": [
    "# clean the data "
   ]
  },
  {
   "cell_type": "markdown",
   "metadata": {},
   "source": [
    "we define functions for clean the text"
   ]
  },
  {
   "cell_type": "code",
   "execution_count": 6,
   "metadata": {},
   "outputs": [],
   "source": [
    "def list_to_remove_words_less_then_3(text):\n",
    "    text = text.split()\n",
    "    text = \" \".join([word for word in text if len(word)>2])\n",
    "    return text"
   ]
  },
  {
   "cell_type": "code",
   "execution_count": 7,
   "metadata": {},
   "outputs": [],
   "source": [
    "stop_words = stopwords.words('english')\n",
    "def nltk_stopword(text, stpwrd=stop_words):\n",
    "    text = text.split()\n",
    "    text = \" \".join([word.lower() for word in text if not word in stpwrd])\n",
    "    \n",
    "    return text"
   ]
  },
  {
   "cell_type": "code",
   "execution_count": 8,
   "metadata": {},
   "outputs": [],
   "source": [
    "ps = PorterStemmer()\n",
    "def stemming_func(text):\n",
    "    text = text.split()\n",
    "    text = \" \".join([ps.stem(word) for word in text])\n",
    "    \n",
    "    return text"
   ]
  },
  {
   "cell_type": "code",
   "execution_count": 9,
   "metadata": {},
   "outputs": [
    {
     "name": "stderr",
     "output_type": "stream",
     "text": [
      "[nltk_data] Downloading package punkt to /home/ushah/nltk_data...\n",
      "[nltk_data]   Package punkt is already up-to-date!\n"
     ]
    }
   ],
   "source": [
    "nltk.download(\"punkt\")\n",
    "def remove_punc(text):\n",
    "    text = text.split()\n",
    "    text = \" \".join([word for word in text if word.isalnum()])\n",
    "    \n",
    "    return text"
   ]
  },
  {
   "cell_type": "code",
   "execution_count": 10,
   "metadata": {},
   "outputs": [],
   "source": [
    "df_['text'] = df_['text'].map(lambda x: str(x))\n",
    "df_['text'] = df_['text'].apply(list_to_remove_words_less_then_3)\n",
    "df_['text'] = df_['text'].apply(nltk_stopword)\n",
    "df_['text'] = df_['text'].apply(remove_punc)\n",
    "df_['text'] = df_['text'].apply(stemming_func)"
   ]
  },
  {
   "cell_type": "markdown",
   "metadata": {},
   "source": [
    "### Apply the functions to clean the text "
   ]
  },
  {
   "cell_type": "code",
   "execution_count": 11,
   "metadata": {},
   "outputs": [],
   "source": [
    "df_ = df_[df_['Q6'].isin(['Not Satisfactory', 'Satisfactory', 'Not Applicable'])]"
   ]
  },
  {
   "cell_type": "code",
   "execution_count": 12,
   "metadata": {},
   "outputs": [
    {
     "data": {
      "text/plain": [
       "<AxesSubplot:>"
      ]
     },
     "execution_count": 12,
     "metadata": {},
     "output_type": "execute_result"
    },
    {
     "data": {
      "image/png": "[encoded data removed]",
      "text/plain": [
       "<Figure size 432x288 with 1 Axes>"
      ]
     },
     "metadata": {
      "needs_background": "light"
     },
     "output_type": "display_data"
    }
   ],
   "source": [
    "df_.Q6.value_counts().plot(kind='bar')"
   ]
  },
  {
   "cell_type": "code",
   "execution_count": 13,
   "metadata": {},
   "outputs": [],
   "source": [
    "# one-hot encoding for target column\n",
    "encoding = {'Not Satisfactory': 0,\n",
    "            'Not Applicable': 0,\n",
    "            'Satisfactory': 1,\n",
    "           }\n",
    "\n",
    "labels = ['Not Satisfactory', 'Satisfactory']\n",
    "           \n",
    "\n",
    "df_['Q6'].replace(encoding, inplace=True)"
   ]
  },
  {
   "cell_type": "code",
   "execution_count": 14,
   "metadata": {},
   "outputs": [
    {
     "data": {
      "text/plain": [
       "0"
      ]
     },
     "execution_count": 14,
     "metadata": {},
     "output_type": "execute_result"
    }
   ],
   "source": [
    "df_.dropna(subset = [\"text\"], inplace=True)\n",
    "df_.text.isna().sum()"
   ]
  },
  {
   "cell_type": "markdown",
   "metadata": {},
   "source": [
    "# CountVectorizer"
   ]
  },
  {
   "cell_type": "code",
   "execution_count": 15,
   "metadata": {},
   "outputs": [],
   "source": [
    "# Transform each text into a vector of word counts\n",
    "vectorizer = CountVectorizer(max_features=2000, max_df = 0.75, \n",
    "                             input=df_['text'].all(),\n",
    "                            ngram_range=(1,2))\n",
    "\n",
    "training_features = vectorizer.fit_transform(df_['text']) "
   ]
  },
  {
   "cell_type": "code",
   "execution_count": 16,
   "metadata": {},
   "outputs": [],
   "source": [
    "x_train, x_test, y_train, y_test = train_test_split(training_features.A, df_['Q6'], test_size = 0.15, \n",
    "                                                    random_state = 101, stratify=df_.Q6)"
   ]
  },
  {
   "cell_type": "markdown",
   "metadata": {},
   "source": [
    "# linear_model"
   ]
  },
  {
   "cell_type": "code",
   "execution_count": 17,
   "metadata": {},
   "outputs": [
    {
     "name": "stdout",
     "output_type": "stream",
     "text": [
      "alpha:  80.0\n",
      "[0.58823529 0.59191176 0.67279412 0.62132353 0.65808824]\n",
      "0.6264705882352942\n",
      "\n",
      "\n",
      "alpha:  90.0\n",
      "[0.58823529 0.59926471 0.67647059 0.62132353 0.67279412]\n",
      "0.6316176470588235\n",
      "\n",
      "\n",
      "alpha:  100.0\n",
      "[0.58823529 0.58823529 0.67647059 0.63602941 0.66911765]\n",
      "0.6316176470588235\n",
      "\n",
      "\n",
      "alpha:  110.0\n",
      "[0.58823529 0.59191176 0.67647059 0.63970588 0.66544118]\n",
      "0.6323529411764706\n",
      "\n",
      "\n",
      "alpha:  120.0\n",
      "[0.58823529 0.60661765 0.67279412 0.63970588 0.66544118]\n",
      "0.6345588235294117\n",
      "\n",
      "\n"
     ]
    }
   ],
   "source": [
    "from sklearn import linear_model\n",
    "from sklearn.metrics import accuracy_score\n",
    "import sklearn\n",
    "alpha = [80.0, 90.0, 100.0, 110.0, 120.0] \n",
    "for a in alpha:\n",
    "    ridge = linear_model.RidgeClassifier(a)\n",
    "    scores = sklearn.model_selection.cross_val_score(ridge, x_train, y_train, cv=5)#scoring='f1' kaldirdim multiclass hatasina karsilik\n",
    "    print(\"alpha: \",a)\n",
    "    print(scores)\n",
    "    print(np.mean(scores))\n",
    "    print('\\n')"
   ]
  },
  {
   "cell_type": "markdown",
   "metadata": {},
   "source": [
    "# naive_bayes"
   ]
  },
  {
   "cell_type": "code",
   "execution_count": 18,
   "metadata": {},
   "outputs": [
    {
     "name": "stdout",
     "output_type": "stream",
     "text": [
      "alpha:  1e-10\n",
      "[0.58823529 0.56617647 0.65441176 0.56985294 0.55882353]\n",
      "0.5875\n",
      "\n",
      "\n",
      "alpha:  1e-05\n",
      "[0.58823529 0.56617647 0.65441176 0.56985294 0.55882353]\n",
      "0.5875\n",
      "\n",
      "\n",
      "alpha:  0.1\n",
      "[0.58823529 0.56985294 0.65073529 0.57720588 0.55882353]\n",
      "0.5889705882352942\n",
      "\n",
      "\n",
      "alpha:  1.0\n",
      "[0.58088235 0.56985294 0.65073529 0.58088235 0.55882353]\n",
      "0.5882352941176471\n",
      "\n",
      "\n",
      "alpha:  2.0\n",
      "[0.58455882 0.56617647 0.64338235 0.58823529 0.55882353]\n",
      "0.5882352941176471\n",
      "\n",
      "\n",
      "alpha:  5.0\n",
      "[0.58088235 0.55514706 0.66544118 0.59558824 0.56617647]\n",
      "0.5926470588235295\n",
      "\n",
      "\n"
     ]
    }
   ],
   "source": [
    "# MultinomialNB with bag of word\n",
    "from sklearn.naive_bayes import MultinomialNB\n",
    "alpha = [1e-10, 1e-5, 0.1, 1.0, 2.0, 5.0]\n",
    "for a in alpha:\n",
    "    mnb = MultinomialNB(a)\n",
    "    scores = sklearn.model_selection.cross_val_score(mnb, x_train, y_train, cv=5)\n",
    "    print('alpha: ', a)\n",
    "    print(scores)\n",
    "    print(np.mean(scores))\n",
    "    print('\\n')"
   ]
  },
  {
   "cell_type": "markdown",
   "metadata": {},
   "source": [
    "# DecisionTreeClassifier"
   ]
  },
  {
   "cell_type": "code",
   "execution_count": 19,
   "metadata": {},
   "outputs": [
    {
     "name": "stdout",
     "output_type": "stream",
     "text": [
      "              precision    recall  f1-score   support\n",
      "\n",
      "           0       0.54      0.62      0.57       118\n",
      "           1       0.57      0.49      0.53       123\n",
      "\n",
      "    accuracy                           0.55       241\n",
      "   macro avg       0.55      0.55      0.55       241\n",
      "weighted avg       0.55      0.55      0.55       241\n",
      "\n",
      "[[73 45]\n",
      " [63 60]]\n"
     ]
    }
   ],
   "source": [
    "from sklearn.tree import DecisionTreeClassifier\n",
    "from sklearn.metrics import accuracy_score\n",
    "dtclassifier=DecisionTreeClassifier(criterion=\"entropy\", max_depth=None)\n",
    "dtclassifier.fit(x_train,y_train)\n",
    "preddt = dtclassifier.predict(x_test)\n",
    "accuracy= accuracy_score(preddt,y_test)\n",
    "from sklearn.metrics import classification_report,confusion_matrix\n",
    "print(classification_report(y_test, preddt))\n",
    "print(confusion_matrix(y_test, preddt))"
   ]
  },
  {
   "cell_type": "markdown",
   "metadata": {},
   "source": [
    "# SVM"
   ]
  },
  {
   "cell_type": "code",
   "execution_count": 20,
   "metadata": {},
   "outputs": [
    {
     "name": "stdout",
     "output_type": "stream",
     "text": [
      "              precision    recall  f1-score   support\n",
      "\n",
      "           0       0.56      0.62      0.59       118\n",
      "           1       0.59      0.54      0.56       123\n",
      "\n",
      "    accuracy                           0.58       241\n",
      "   macro avg       0.58      0.58      0.58       241\n",
      "weighted avg       0.58      0.58      0.58       241\n",
      "\n",
      "[[73 45]\n",
      " [57 66]]\n"
     ]
    }
   ],
   "source": [
    "# Perform classification with SVM, kernel=linear\n",
    "import time\n",
    "from sklearn import svm\n",
    "from sklearn.metrics import classification_report\n",
    "classifier_linear = svm.SVC(kernel='linear')\n",
    "classifier_linear.fit(x_train, y_train)\n",
    "prediction_linear = classifier_linear.predict(x_test)\n",
    "print(classification_report(y_test, prediction_linear))\n",
    "print(confusion_matrix(y_test, prediction_linear))"
   ]
  },
  {
   "cell_type": "markdown",
   "metadata": {},
   "source": [
    "# LogisticRegression"
   ]
  },
  {
   "cell_type": "code",
   "execution_count": 21,
   "metadata": {},
   "outputs": [
    {
     "name": "stderr",
     "output_type": "stream",
     "text": [
      "/home/ushah/.local/lib/python3.8/site-packages/sklearn/linear_model/_logistic.py:938: ConvergenceWarning: lbfgs failed to converge (status=1):\n",
      "STOP: TOTAL NO. of ITERATIONS REACHED LIMIT.\n",
      "\n",
      "Increase the number of iterations (max_iter) or scale the data as shown in:\n",
      "    https://scikit-learn.org/stable/modules/preprocessing.html\n",
      "Please also refer to the documentation for alternative solver options:\n",
      "    https://scikit-learn.org/stable/modules/linear_model.html#logistic-regression\n",
      "  n_iter_i = _check_optimize_result(\n"
     ]
    },
    {
     "name": "stdout",
     "output_type": "stream",
     "text": [
      "              precision    recall  f1-score   support\n",
      "\n",
      "           0       0.58      0.68      0.63       118\n",
      "           1       0.63      0.54      0.58       123\n",
      "\n",
      "    accuracy                           0.61       241\n",
      "   macro avg       0.61      0.61      0.60       241\n",
      "weighted avg       0.61      0.61      0.60       241\n",
      "\n",
      "[[80 38]\n",
      " [57 66]]\n"
     ]
    }
   ],
   "source": [
    "from sklearn.linear_model import LogisticRegression\n",
    "log_reg = LogisticRegression(solver='lbfgs', multi_class=\"ovr\")\n",
    "log_reg.fit(x_train, y_train)\n",
    "prediction_linear = log_reg.predict(x_test)\n",
    "print(classification_report(y_test, prediction_linear))\n",
    "print(confusion_matrix(y_test, prediction_linear))"
   ]
  },
  {
   "cell_type": "markdown",
   "metadata": {},
   "source": [
    "# RandomForestClassifier"
   ]
  },
  {
   "cell_type": "code",
   "execution_count": 22,
   "metadata": {},
   "outputs": [
    {
     "name": "stdout",
     "output_type": "stream",
     "text": [
      "              precision    recall  f1-score   support\n",
      "\n",
      "           0       0.68      0.62      0.65       118\n",
      "           1       0.66      0.72      0.69       123\n",
      "\n",
      "    accuracy                           0.67       241\n",
      "   macro avg       0.67      0.67      0.67       241\n",
      "weighted avg       0.67      0.67      0.67       241\n",
      "\n",
      "[[73 45]\n",
      " [35 88]]\n"
     ]
    }
   ],
   "source": [
    "from sklearn.ensemble import RandomForestClassifier\n",
    "rnf = RandomForestClassifier(n_estimators=200)\n",
    "rnf.fit(x_train, y_train)\n",
    "prediction_linear = rnf.predict(x_test)\n",
    "print(classification_report(y_test, prediction_linear))\n",
    "print(confusion_matrix(y_test, prediction_linear))"
   ]
  },
  {
   "cell_type": "markdown",
   "metadata": {},
   "source": [
    "# GradientBoostingClassifier"
   ]
  },
  {
   "cell_type": "code",
   "execution_count": 23,
   "metadata": {},
   "outputs": [
    {
     "name": "stdout",
     "output_type": "stream",
     "text": [
      "              precision    recall  f1-score   support\n",
      "\n",
      "           0       0.63      0.65      0.64       118\n",
      "           1       0.66      0.63      0.64       123\n",
      "\n",
      "    accuracy                           0.64       241\n",
      "   macro avg       0.64      0.64      0.64       241\n",
      "weighted avg       0.64      0.64      0.64       241\n",
      "\n",
      "[[77 41]\n",
      " [45 78]]\n"
     ]
    }
   ],
   "source": [
    "from sklearn.ensemble import GradientBoostingClassifier\n",
    "gbc = GradientBoostingClassifier(n_estimators=400, random_state = 2020)\n",
    "gbc.fit(x_train, y_train)\n",
    "prediction_linear = gbc.predict(x_test)\n",
    "print(classification_report(y_test, prediction_linear))\n",
    "print(confusion_matrix(y_test, prediction_linear))"
   ]
  },
  {
   "cell_type": "markdown",
   "metadata": {},
   "source": [
    "# HistGradientBoostingClassifier"
   ]
  },
  {
   "cell_type": "code",
   "execution_count": 24,
   "metadata": {},
   "outputs": [
    {
     "name": "stdout",
     "output_type": "stream",
     "text": [
      "              precision    recall  f1-score   support\n",
      "\n",
      "           0       0.61      0.65      0.63       118\n",
      "           1       0.64      0.60      0.62       123\n",
      "\n",
      "    accuracy                           0.63       241\n",
      "   macro avg       0.63      0.63      0.63       241\n",
      "weighted avg       0.63      0.63      0.63       241\n",
      "\n",
      "[[77 41]\n",
      " [49 74]]\n"
     ]
    }
   ],
   "source": [
    "from sklearn.experimental import enable_hist_gradient_boosting\n",
    "from sklearn.ensemble import HistGradientBoostingClassifier\n",
    "hgbc = HistGradientBoostingClassifier()\n",
    "hgbc.fit(x_train, y_train)\n",
    "prediction_linear = hgbc.predict(x_test)\n",
    "print(classification_report(y_test, prediction_linear))\n",
    "print(confusion_matrix(y_test, prediction_linear))"
   ]
  },
  {
   "cell_type": "markdown",
   "metadata": {},
   "source": [
    "# Apply MinMaxScaler on countvectories"
   ]
  },
  {
   "cell_type": "code",
   "execution_count": 25,
   "metadata": {},
   "outputs": [],
   "source": [
    "from sklearn import preprocessing\n",
    "min_max_scaler = preprocessing.MinMaxScaler()\n",
    "x_train = min_max_scaler.fit_transform(x_train)\n",
    "x_test = min_max_scaler.fit_transform(x_test)"
   ]
  },
  {
   "cell_type": "markdown",
   "metadata": {},
   "source": [
    "# linear_model"
   ]
  },
  {
   "cell_type": "code",
   "execution_count": 26,
   "metadata": {},
   "outputs": [
    {
     "name": "stdout",
     "output_type": "stream",
     "text": [
      "alpha:  80.0\n",
      "[0.67279412 0.68014706 0.67647059 0.63602941 0.69117647]\n",
      "0.6713235294117647\n",
      "\n",
      "\n",
      "alpha:  90.0\n",
      "[0.66911765 0.68382353 0.67279412 0.63970588 0.69117647]\n",
      "0.6713235294117647\n",
      "\n",
      "\n",
      "alpha:  100.0\n",
      "[0.66911765 0.68014706 0.66176471 0.64338235 0.6875    ]\n",
      "0.6683823529411764\n",
      "\n",
      "\n",
      "alpha:  110.0\n",
      "[0.66544118 0.68014706 0.68014706 0.65073529 0.6875    ]\n",
      "0.6727941176470589\n",
      "\n",
      "\n",
      "alpha:  120.0\n",
      "[0.66911765 0.68014706 0.67647059 0.64705882 0.69117647]\n",
      "0.6727941176470587\n",
      "\n",
      "\n"
     ]
    }
   ],
   "source": [
    "from sklearn import linear_model\n",
    "from sklearn.metrics import accuracy_score\n",
    "import sklearn\n",
    "alpha = [80.0, 90.0, 100.0, 110.0, 120.0] \n",
    "for a in alpha:\n",
    "    ridge = linear_model.RidgeClassifier(a)\n",
    "    scores = sklearn.model_selection.cross_val_score(ridge, x_train, y_train, cv=5)#scoring='f1' kaldirdim multiclass hatasina karsilik\n",
    "    print(\"alpha: \",a)\n",
    "    print(scores)\n",
    "    print(np.mean(scores))\n",
    "    print('\\n')"
   ]
  },
  {
   "cell_type": "markdown",
   "metadata": {},
   "source": [
    "# naive_bayes"
   ]
  },
  {
   "cell_type": "code",
   "execution_count": 27,
   "metadata": {},
   "outputs": [
    {
     "name": "stdout",
     "output_type": "stream",
     "text": [
      "alpha:  1e-10\n",
      "[0.60294118 0.59926471 0.64705882 0.63602941 0.60661765]\n",
      "0.6183823529411765\n",
      "\n",
      "\n",
      "alpha:  1e-05\n",
      "[0.60294118 0.59926471 0.64705882 0.63602941 0.60661765]\n",
      "0.6183823529411765\n",
      "\n",
      "\n",
      "alpha:  0.1\n",
      "[0.59926471 0.59926471 0.64705882 0.625      0.59558824]\n",
      "0.6132352941176471\n",
      "\n",
      "\n",
      "alpha:  1.0\n",
      "[0.61029412 0.59191176 0.63602941 0.60294118 0.60294118]\n",
      "0.6088235294117647\n",
      "\n",
      "\n",
      "alpha:  2.0\n",
      "[0.59558824 0.60294118 0.63235294 0.60294118 0.59926471]\n",
      "0.6066176470588235\n",
      "\n",
      "\n",
      "alpha:  5.0\n",
      "[0.59191176 0.61029412 0.66176471 0.60661765 0.60294118]\n",
      "0.6147058823529411\n",
      "\n",
      "\n"
     ]
    }
   ],
   "source": [
    "# MultinomialNB with bag of word\n",
    "from sklearn.naive_bayes import MultinomialNB\n",
    "alpha = [1e-10, 1e-5, 0.1, 1.0, 2.0, 5.0]\n",
    "for a in alpha:\n",
    "    mnb = MultinomialNB(a)\n",
    "    scores = sklearn.model_selection.cross_val_score(mnb, x_train, y_train, cv=5)\n",
    "    print('alpha: ', a)\n",
    "    print(scores)\n",
    "    print(np.mean(scores))\n",
    "    print('\\n')"
   ]
  },
  {
   "cell_type": "markdown",
   "metadata": {},
   "source": [
    "# DecisionTreeClassifier"
   ]
  },
  {
   "cell_type": "code",
   "execution_count": 28,
   "metadata": {},
   "outputs": [
    {
     "name": "stdout",
     "output_type": "stream",
     "text": [
      "              precision    recall  f1-score   support\n",
      "\n",
      "           0       0.53      0.53      0.53       118\n",
      "           1       0.55      0.56      0.56       123\n",
      "\n",
      "    accuracy                           0.54       241\n",
      "   macro avg       0.54      0.54      0.54       241\n",
      "weighted avg       0.54      0.54      0.54       241\n",
      "\n",
      "[[62 56]\n",
      " [54 69]]\n"
     ]
    }
   ],
   "source": [
    "from sklearn.tree import DecisionTreeClassifier\n",
    "from sklearn.metrics import accuracy_score\n",
    "dtclassifier=DecisionTreeClassifier(criterion=\"entropy\", max_depth=None)\n",
    "dtclassifier.fit(x_train,y_train)\n",
    "preddt = dtclassifier.predict(x_test)\n",
    "accuracy= accuracy_score(preddt,y_test)\n",
    "from sklearn.metrics import classification_report,confusion_matrix\n",
    "print(classification_report(y_test, preddt))\n",
    "print(confusion_matrix(y_test, preddt))"
   ]
  },
  {
   "cell_type": "markdown",
   "metadata": {},
   "source": [
    "# SVM"
   ]
  },
  {
   "cell_type": "code",
   "execution_count": 29,
   "metadata": {},
   "outputs": [
    {
     "name": "stdout",
     "output_type": "stream",
     "text": [
      "              precision    recall  f1-score   support\n",
      "\n",
      "           0       0.53      0.49      0.51       118\n",
      "           1       0.55      0.59      0.56       123\n",
      "\n",
      "    accuracy                           0.54       241\n",
      "   macro avg       0.54      0.54      0.54       241\n",
      "weighted avg       0.54      0.54      0.54       241\n",
      "\n",
      "[[58 60]\n",
      " [51 72]]\n"
     ]
    }
   ],
   "source": [
    "# Perform classification with SVM, kernel=linear\n",
    "import time\n",
    "from sklearn import svm\n",
    "from sklearn.metrics import classification_report\n",
    "classifier_linear = svm.SVC(kernel='linear')\n",
    "classifier_linear.fit(x_train, y_train)\n",
    "prediction_linear = classifier_linear.predict(x_test)\n",
    "print(classification_report(y_test, prediction_linear))\n",
    "print(confusion_matrix(y_test, prediction_linear))"
   ]
  },
  {
   "cell_type": "markdown",
   "metadata": {},
   "source": [
    "# LogisticRegression"
   ]
  },
  {
   "cell_type": "code",
   "execution_count": 30,
   "metadata": {},
   "outputs": [
    {
     "name": "stdout",
     "output_type": "stream",
     "text": [
      "              precision    recall  f1-score   support\n",
      "\n",
      "           0       0.57      0.50      0.53       118\n",
      "           1       0.57      0.63      0.60       123\n",
      "\n",
      "    accuracy                           0.57       241\n",
      "   macro avg       0.57      0.57      0.57       241\n",
      "weighted avg       0.57      0.57      0.57       241\n",
      "\n",
      "[[59 59]\n",
      " [45 78]]\n"
     ]
    }
   ],
   "source": [
    "from sklearn.linear_model import LogisticRegression\n",
    "log_reg = LogisticRegression(solver='lbfgs', multi_class=\"ovr\")\n",
    "log_reg.fit(x_train, y_train)\n",
    "prediction_linear = log_reg.predict(x_test)\n",
    "print(classification_report(y_test, prediction_linear))\n",
    "print(confusion_matrix(y_test, prediction_linear))"
   ]
  },
  {
   "cell_type": "markdown",
   "metadata": {},
   "source": [
    "# RandomForestClassifier"
   ]
  },
  {
   "cell_type": "code",
   "execution_count": 31,
   "metadata": {},
   "outputs": [
    {
     "name": "stdout",
     "output_type": "stream",
     "text": [
      "              precision    recall  f1-score   support\n",
      "\n",
      "           0       0.66      0.42      0.52       118\n",
      "           1       0.59      0.79      0.67       123\n",
      "\n",
      "    accuracy                           0.61       241\n",
      "   macro avg       0.62      0.61      0.59       241\n",
      "weighted avg       0.62      0.61      0.60       241\n",
      "\n",
      "[[50 68]\n",
      " [26 97]]\n"
     ]
    }
   ],
   "source": [
    "from sklearn.ensemble import RandomForestClassifier\n",
    "rnf = RandomForestClassifier(n_estimators=400, random_state = 2020)\n",
    "rnf.fit(x_train, y_train)\n",
    "prediction_linear = rnf.predict(x_test)\n",
    "print(classification_report(y_test, prediction_linear))\n",
    "print(confusion_matrix(y_test, prediction_linear))"
   ]
  },
  {
   "cell_type": "markdown",
   "metadata": {},
   "source": [
    "# GradientBoostingClassifier"
   ]
  },
  {
   "cell_type": "code",
   "execution_count": 32,
   "metadata": {},
   "outputs": [
    {
     "name": "stdout",
     "output_type": "stream",
     "text": [
      "              precision    recall  f1-score   support\n",
      "\n",
      "           0       0.62      0.67      0.64       118\n",
      "           1       0.66      0.61      0.63       123\n",
      "\n",
      "    accuracy                           0.64       241\n",
      "   macro avg       0.64      0.64      0.64       241\n",
      "weighted avg       0.64      0.64      0.64       241\n",
      "\n",
      "[[79 39]\n",
      " [48 75]]\n"
     ]
    }
   ],
   "source": [
    "from sklearn.ensemble import GradientBoostingClassifier\n",
    "gbc = GradientBoostingClassifier(n_estimators=400, random_state = 2020)\n",
    "gbc.fit(x_train, y_train)\n",
    "prediction_linear = gbc.predict(x_test)\n",
    "print(classification_report(y_test, prediction_linear))\n",
    "print(confusion_matrix(y_test, prediction_linear))"
   ]
  },
  {
   "cell_type": "markdown",
   "metadata": {},
   "source": [
    "# HistGradientBoostingClassifier"
   ]
  },
  {
   "cell_type": "code",
   "execution_count": 33,
   "metadata": {},
   "outputs": [
    {
     "name": "stdout",
     "output_type": "stream",
     "text": [
      "              precision    recall  f1-score   support\n",
      "\n",
      "           0       0.64      0.66      0.65       118\n",
      "           1       0.67      0.65      0.66       123\n",
      "\n",
      "    accuracy                           0.66       241\n",
      "   macro avg       0.66      0.66      0.66       241\n",
      "weighted avg       0.66      0.66      0.66       241\n",
      "\n",
      "[[78 40]\n",
      " [43 80]]\n"
     ]
    }
   ],
   "source": [
    "from sklearn.experimental import enable_hist_gradient_boosting\n",
    "from sklearn.ensemble import HistGradientBoostingClassifier\n",
    "hgbc = HistGradientBoostingClassifier()\n",
    "hgbc.fit(x_train, y_train)\n",
    "prediction_linear = hgbc.predict(x_test)\n",
    "print(classification_report(y_test, prediction_linear))\n",
    "print(confusion_matrix(y_test, prediction_linear))"
   ]
  },
  {
   "cell_type": "markdown",
   "metadata": {},
   "source": [
    "# TfidfVectorizer"
   ]
  },
  {
   "cell_type": "code",
   "execution_count": 34,
   "metadata": {},
   "outputs": [],
   "source": [
    "# Transform each text into a vector of word counts\n",
    "vectorizer1 = TfidfVectorizer(max_features=2000, max_df = 0.75, \n",
    "                             input=df_['text'].all(),\n",
    "                            ngram_range=(1,2))\n",
    "\n",
    "training_features = vectorizer1.fit_transform(df_['text']) "
   ]
  },
  {
   "cell_type": "code",
   "execution_count": 35,
   "metadata": {},
   "outputs": [],
   "source": [
    "x_train, x_test, y_train, y_test = train_test_split(training_features.A, df_['Q6'], test_size = 0.15, \n",
    "                                                    random_state = 101, stratify=df_.Q6)"
   ]
  },
  {
   "cell_type": "markdown",
   "metadata": {},
   "source": [
    "# linear_model"
   ]
  },
  {
   "cell_type": "code",
   "execution_count": 36,
   "metadata": {},
   "outputs": [
    {
     "name": "stdout",
     "output_type": "stream",
     "text": [
      "alpha:  80.0\n",
      "[0.54779412 0.61029412 0.62132353 0.54411765 0.56617647]\n",
      "0.5779411764705882\n",
      "\n",
      "\n",
      "alpha:  90.0\n",
      "[0.55882353 0.59191176 0.60661765 0.54411765 0.56617647]\n",
      "0.5735294117647058\n",
      "\n",
      "\n",
      "alpha:  100.0\n",
      "[0.55514706 0.58823529 0.58455882 0.54779412 0.55882353]\n",
      "0.5669117647058824\n",
      "\n",
      "\n",
      "alpha:  110.0\n",
      "[0.51838235 0.58088235 0.57720588 0.54779412 0.55147059]\n",
      "0.5551470588235295\n",
      "\n",
      "\n",
      "alpha:  120.0\n",
      "[0.51838235 0.57720588 0.57720588 0.55147059 0.5625    ]\n",
      "0.5573529411764706\n",
      "\n",
      "\n"
     ]
    }
   ],
   "source": [
    "from sklearn import linear_model\n",
    "from sklearn.metrics import accuracy_score\n",
    "import sklearn\n",
    "alpha = [80.0, 90.0, 100.0, 110.0, 120.0] \n",
    "for a in alpha:\n",
    "    ridge = linear_model.RidgeClassifier(a)\n",
    "    scores = sklearn.model_selection.cross_val_score(ridge, x_train, y_train, cv=5)#scoring='f1' kaldirdim multiclass hatasina karsilik\n",
    "    print(\"alpha: \",a)\n",
    "    print(scores)\n",
    "    print(np.mean(scores))\n",
    "    print('\\n')"
   ]
  },
  {
   "cell_type": "markdown",
   "metadata": {},
   "source": [
    "# MultinomialNB"
   ]
  },
  {
   "cell_type": "code",
   "execution_count": 37,
   "metadata": {},
   "outputs": [
    {
     "name": "stdout",
     "output_type": "stream",
     "text": [
      "alpha:  1e-10\n",
      "[0.58088235 0.59926471 0.63235294 0.55882353 0.55147059]\n",
      "0.5845588235294118\n",
      "\n",
      "\n",
      "alpha:  1e-05\n",
      "[0.58088235 0.59926471 0.63235294 0.55882353 0.55147059]\n",
      "0.5845588235294118\n",
      "\n",
      "\n",
      "alpha:  0.1\n",
      "[0.58088235 0.59926471 0.63235294 0.5625     0.54044118]\n",
      "0.5830882352941177\n",
      "\n",
      "\n",
      "alpha:  1.0\n",
      "[0.58088235 0.59926471 0.63602941 0.57720588 0.55147059]\n",
      "0.5889705882352942\n",
      "\n",
      "\n",
      "alpha:  2.0\n",
      "[0.55882353 0.58823529 0.63602941 0.57352941 0.55147059]\n",
      "0.5816176470588236\n",
      "\n",
      "\n",
      "alpha:  5.0\n",
      "[0.54779412 0.60661765 0.63970588 0.57720588 0.54411765]\n",
      "0.5830882352941176\n",
      "\n",
      "\n"
     ]
    }
   ],
   "source": [
    "# MultinomialNB with bag of word\n",
    "from sklearn.naive_bayes import MultinomialNB\n",
    "alpha = [1e-10, 1e-5, 0.1, 1.0, 2.0, 5.0]\n",
    "for a in alpha:\n",
    "    mnb = MultinomialNB(a)\n",
    "    scores = sklearn.model_selection.cross_val_score(mnb, x_train, y_train, cv=5)\n",
    "    print('alpha: ', a)\n",
    "    print(scores)\n",
    "    print(np.mean(scores))\n",
    "    print('\\n')"
   ]
  },
  {
   "cell_type": "markdown",
   "metadata": {},
   "source": [
    "# DecisionTreeClassifier"
   ]
  },
  {
   "cell_type": "code",
   "execution_count": 38,
   "metadata": {},
   "outputs": [
    {
     "name": "stdout",
     "output_type": "stream",
     "text": [
      "              precision    recall  f1-score   support\n",
      "\n",
      "           0       0.50      0.58      0.54       118\n",
      "           1       0.52      0.45      0.48       123\n",
      "\n",
      "    accuracy                           0.51       241\n",
      "   macro avg       0.51      0.51      0.51       241\n",
      "weighted avg       0.51      0.51      0.51       241\n",
      "\n",
      "[[68 50]\n",
      " [68 55]]\n"
     ]
    }
   ],
   "source": [
    "from sklearn.tree import DecisionTreeClassifier\n",
    "from sklearn.metrics import accuracy_score\n",
    "dtclassifier=DecisionTreeClassifier(criterion=\"entropy\", max_depth=None)\n",
    "dtclassifier.fit(x_train,y_train)\n",
    "preddt = dtclassifier.predict(x_test)\n",
    "accuracy= accuracy_score(preddt,y_test)\n",
    "from sklearn.metrics import classification_report,confusion_matrix\n",
    "print(classification_report(y_test, preddt))\n",
    "print(confusion_matrix(y_test, preddt))"
   ]
  },
  {
   "cell_type": "markdown",
   "metadata": {},
   "source": [
    "# SVM"
   ]
  },
  {
   "cell_type": "code",
   "execution_count": 39,
   "metadata": {},
   "outputs": [
    {
     "name": "stdout",
     "output_type": "stream",
     "text": [
      "              precision    recall  f1-score   support\n",
      "\n",
      "           0       0.57      0.58      0.57       118\n",
      "           1       0.59      0.59      0.59       123\n",
      "\n",
      "    accuracy                           0.58       241\n",
      "   macro avg       0.58      0.58      0.58       241\n",
      "weighted avg       0.58      0.58      0.58       241\n",
      "\n",
      "[[68 50]\n",
      " [51 72]]\n"
     ]
    }
   ],
   "source": [
    "# Perform classification with SVM, kernel=linear\n",
    "import time\n",
    "from sklearn import svm\n",
    "from sklearn.metrics import classification_report\n",
    "classifier_linear = svm.SVC(kernel='linear')\n",
    "classifier_linear.fit(x_train, y_train)\n",
    "prediction_linear = classifier_linear.predict(x_test)\n",
    "print(classification_report(y_test, prediction_linear))\n",
    "print(confusion_matrix(y_test, prediction_linear))"
   ]
  },
  {
   "cell_type": "markdown",
   "metadata": {},
   "source": [
    "# LogisticRegression"
   ]
  },
  {
   "cell_type": "code",
   "execution_count": 40,
   "metadata": {},
   "outputs": [
    {
     "name": "stdout",
     "output_type": "stream",
     "text": [
      "              precision    recall  f1-score   support\n",
      "\n",
      "           0       0.56      0.58      0.57       118\n",
      "           1       0.58      0.56      0.57       123\n",
      "\n",
      "    accuracy                           0.57       241\n",
      "   macro avg       0.57      0.57      0.57       241\n",
      "weighted avg       0.57      0.57      0.57       241\n",
      "\n",
      "[[68 50]\n",
      " [54 69]]\n"
     ]
    }
   ],
   "source": [
    "from sklearn.linear_model import LogisticRegression\n",
    "log_reg = LogisticRegression(solver='lbfgs', multi_class=\"ovr\")\n",
    "log_reg.fit(x_train, y_train)\n",
    "prediction_linear = log_reg.predict(x_test)\n",
    "print(classification_report(y_test, prediction_linear))\n",
    "print(confusion_matrix(y_test, prediction_linear))"
   ]
  },
  {
   "cell_type": "markdown",
   "metadata": {},
   "source": [
    "# RandomForestClassifier"
   ]
  },
  {
   "cell_type": "code",
   "execution_count": 41,
   "metadata": {},
   "outputs": [
    {
     "name": "stdout",
     "output_type": "stream",
     "text": [
      "              precision    recall  f1-score   support\n",
      "\n",
      "           0       0.61      0.60      0.60       118\n",
      "           1       0.62      0.63      0.62       123\n",
      "\n",
      "    accuracy                           0.61       241\n",
      "   macro avg       0.61      0.61      0.61       241\n",
      "weighted avg       0.61      0.61      0.61       241\n",
      "\n",
      "[[71 47]\n",
      " [46 77]]\n"
     ]
    }
   ],
   "source": [
    "from sklearn.ensemble import RandomForestClassifier\n",
    "rnf = RandomForestClassifier(n_estimators=400, random_state = 2020)\n",
    "rnf.fit(x_train, y_train)\n",
    "prediction_linear = rnf.predict(x_test)\n",
    "print(classification_report(y_test, prediction_linear))\n",
    "print(confusion_matrix(y_test, prediction_linear))"
   ]
  },
  {
   "cell_type": "markdown",
   "metadata": {},
   "source": [
    "# GradientBoostingClassifier"
   ]
  },
  {
   "cell_type": "code",
   "execution_count": 42,
   "metadata": {},
   "outputs": [
    {
     "name": "stdout",
     "output_type": "stream",
     "text": [
      "              precision    recall  f1-score   support\n",
      "\n",
      "           0       0.62      0.60      0.61       118\n",
      "           1       0.63      0.64      0.63       123\n",
      "\n",
      "    accuracy                           0.62       241\n",
      "   macro avg       0.62      0.62      0.62       241\n",
      "weighted avg       0.62      0.62      0.62       241\n",
      "\n",
      "[[71 47]\n",
      " [44 79]]\n"
     ]
    }
   ],
   "source": [
    "from sklearn.ensemble import GradientBoostingClassifier\n",
    "gbc = GradientBoostingClassifier(n_estimators=400, random_state = 2020)\n",
    "gbc.fit(x_train, y_train)\n",
    "prediction_linear = gbc.predict(x_test)\n",
    "print(classification_report(y_test, prediction_linear))\n",
    "print(confusion_matrix(y_test, prediction_linear))"
   ]
  },
  {
   "cell_type": "markdown",
   "metadata": {},
   "source": [
    "# HistGradientBoostingClassifier"
   ]
  },
  {
   "cell_type": "code",
   "execution_count": 43,
   "metadata": {},
   "outputs": [
    {
     "name": "stdout",
     "output_type": "stream",
     "text": [
      "              precision    recall  f1-score   support\n",
      "\n",
      "           0       0.62      0.62      0.62       118\n",
      "           1       0.63      0.63      0.63       123\n",
      "\n",
      "    accuracy                           0.63       241\n",
      "   macro avg       0.63      0.63      0.63       241\n",
      "weighted avg       0.63      0.63      0.63       241\n",
      "\n",
      "[[73 45]\n",
      " [45 78]]\n"
     ]
    }
   ],
   "source": [
    "from sklearn.ensemble import HistGradientBoostingClassifier\n",
    "gbc = HistGradientBoostingClassifier()\n",
    "gbc.fit(x_train, y_train)\n",
    "prediction_linear = gbc.predict(x_test)\n",
    "print(classification_report(y_test, prediction_linear))\n",
    "print(confusion_matrix(y_test, prediction_linear))"
   ]
  }
 ],
 "metadata": {
  "kernelspec": {
   "display_name": "Python 3",
   "language": "python",
   "name": "python3"
  },
  "language_info": {
   "codemirror_mode": {
    "name": "ipython",
    "version": 3
   },
   "file_extension": ".py",
   "mimetype": "text/x-python",
   "name": "python",
   "nbconvert_exporter": "python",
   "pygments_lexer": "ipython3",
   "version": "3.8.5"
  }
 },
 "nbformat": 4,
 "nbformat_minor": 4
}
